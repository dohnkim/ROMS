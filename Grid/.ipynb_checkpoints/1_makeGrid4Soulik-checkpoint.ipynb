{
 "cells": [
  {
   "cell_type": "markdown",
   "metadata": {},
   "source": [
    "# Pyroms로 태풍 솔릭(Soulik) 모의를 위한 ROMS 격자 만들기\n",
    "\n",
    "**Note**) pyroms는 육지와 바다의 masking을 마우스로 interactive하게 편집할 수 있도록 widget을 제공합니다.<br/>\n",
    "> jupyter notebook 이 아닌 jupyter lab을 사용하시는 분들은<br/>\n",
    "> \"%matplotlib notebook\" 이 호환이 되지 않으므로 \"%matplotlib widget\"를 사용하여야 합니다.<br/>\n",
    "> 이를 사용하기 위해서는 \"jupyter-matplotlib\"를 설치하셔야 하며 자세한 사항은  [여기](https://github.com/matplotlib/jupyter-matplotlib) 를 참조하세요."
   ]
  },
  {
   "cell_type": "code",
   "execution_count": 1,
   "metadata": {},
   "outputs": [
    {
     "name": "stdout",
     "output_type": "stream",
     "text": [
      "lpsolve55.so not found.\n",
      "Linear programming method will not be available.\n"
     ]
    }
   ],
   "source": [
    "#=== for jupyter notebook ===\n",
    "#%matplotlib notebook\n",
    "#=== for jupyter lab ===\n",
    "%matplotlib widget\n",
    "#=== for general use ===\n",
    "# %matplotlib inline\n",
    "\n",
    "import os\n",
    "import numpy as np\n",
    "import matplotlib.pyplot as plt\n",
    "from mpl_toolkits.basemap import Basemap, cm\n",
    "#from matplotlib.mlab import griddata\n",
    "from scipy.interpolate import griddata\n",
    "\n",
    "import matplotlib.colors as colors\n",
    "# from scipy.signal import medfilt2d\n",
    "import netCDF4\n",
    "\n",
    "import pyroms\n",
    "import pyroms_toolbox\n",
    "from bathy_smoother import *"
   ]
  },
  {
   "cell_type": "markdown",
   "metadata": {},
   "source": [
    "## 1. 격자 영역 지정\n",
    "\n",
    "지도 투영 방법에 관한 개념설명은 저의 [홈페이지](http://www.dhkim.info)에 있는 \"[WRF ARW에서 사용되는 지도 투영법](https://dhkim.tistory.com/273)\"을 참고하세요.<br/>\n",
    "중위도 지역의 모의에는 보통 \"Lambert Conformal\" 투영법을 사용하며,<br/> \n",
    "저위도나 적도지역은 \"Mercator\", 극 지역은 \"Polar Stereographic\",<br/>\n",
    "전지구 모의에는 \"Cylindrical Equidistant\" 투영법을 사용합니다."
   ]
  },
  {
   "cell_type": "code",
   "execution_count": 2,
   "metadata": {},
   "outputs": [
    {
     "data": {
      "text/plain": [
       "7.331724562762205"
      ]
     },
     "execution_count": 2,
     "metadata": {},
     "output_type": "execute_result"
    },
    {
     "data": {
      "text/plain": [
       "78.68061186044372"
      ]
     },
     "execution_count": 2,
     "metadata": {},
     "output_type": "execute_result"
    },
    {
     "data": {
      "text/plain": [
       "55.53891771842374"
      ]
     },
     "execution_count": 2,
     "metadata": {},
     "output_type": "execute_result"
    },
    {
     "data": {
      "text/plain": [
       "174.44738813955632"
      ]
     },
     "execution_count": 2,
     "metadata": {},
     "output_type": "execute_result"
    },
    {
     "data": {
      "application/vnd.jupyter.widget-view+json": {
       "model_id": "",
       "version_major": 2,
       "version_minor": 0
      },
      "text/plain": [
       "FigureCanvasNbAgg()"
      ]
     },
     "metadata": {},
     "output_type": "display_data"
    }
   ],
   "source": [
    "# 격자 해상도 지정 (Lm: 경도, Mm: 위도)\n",
    "Lm = 430\n",
    "Mm = 320\n",
    "\n",
    "# 위경도 영역 지정\n",
    "lon0 = 117.; lat0 = 52. # 영역의 왼쪽 위\n",
    "lon1 = 117.; lat1 = 20. # 영역의 왼쪽 아래\n",
    "lon2 = 160.; lat2 = 20. # 영역의 오른쪽 아래\n",
    "lon3 = 160.; lat3 = 52. # 영역의 오른쪽 위\n",
    "centerLonLat     = [126.564, 33.457] # 영역의 중심 경위도 (투영법에서 참조하는 중심 위치임)\n",
    "trueLatLowerUpper= [ 30., 40.] # 지도투영에 의해 발생하는 위도 왜곡에서 지표면과 교차되는 아랫지점과 윗지점\n",
    "\n",
    "M = Basemap(projection='lcc', lat_0=centerLonLat[1], lon_0=centerLonLat[0], \\\n",
    "            lat_1=trueLatLowerUpper[0], lat_2=trueLatLowerUpper[1], \\\n",
    "            resolution='i',width=7000000,height=5500000) # set width & height widely just to check\n",
    "            #llcrnrlon=lon1,llcrnrlat=lat1,urcrnrlon=lon3,urcrnrlat=lat3, resolution='i')\n",
    "# M.latmin; M.lonmin; M.latmax; M.lonmax\n",
    "\n",
    "# %matplotlib inline\n",
    "#from matplotlib.patches import Polygon\n",
    "_=M.drawcoastlines(); _=M.drawcountries(); _=M.drawmapboundary()\n",
    "_=M.fillcontinents(color='coral',lake_color='aqua')\n",
    "#x, y = M([lon0,lon1,lon2,lon3],[lat0,lat1,lat2,lat3])\n",
    "#xy = list(zip(x,y))\n",
    "#poly = Polygon(xy, facecolor='red', alpha=0.4)\n",
    "#_=plt.gca().add_patch(poly)"
   ]
  },
  {
   "cell_type": "markdown",
   "metadata": {},
   "source": [
    "## 2. pyroms로 기본 수평 격자 만들기\n",
    "\n",
    "### 2-1. 기본 수평 격자 만들기\n",
    "Gridgen() 함수에 인자로 들어가는 \"beta\" 값은 \"[Pyroms - Python for ROMS](https://www.myroms.org/wiki/images/7/7f/Intro_pyroms.pdf)\" 를 참고하세요.<br/>\n",
    "영역의 초기 위치에서부터 모서리가 시계반대방향으로 꺽이면 +1 이고 시계방향으로 꺽이면 -1 입니다."
   ]
  },
  {
   "cell_type": "code",
   "execution_count": 3,
   "metadata": {},
   "outputs": [],
   "source": [
    "lonp = np.array([lon0,lon1,lon2,lon3])\n",
    "latp = np.array([lat0,lat1,lat2,lat3])\n",
    "beta = np.array([1, 1, 1, 1])\n",
    "\n",
    "## 격자의 모서리를 수정하지 않고 주어진 값으로 수평 격자를 만들 경우:\n",
    "hgrd = pyroms.grid.Gridgen(lonp, latp, beta, (Mm+3, Lm+3), proj=M)\n",
    "\n",
    "## 격자의 모서리를 직접 수정하여 수평 격자를 만들 경우:\n",
    "#M.drawcoastlines()\n",
    "#xp, yp = M(lonp, latp)\n",
    "#bry = pyroms.hgrid.BoundaryInteractor(xp, yp, beta, shp=(Mm+3,Lm+3), proj=M)\n",
    "#hgrd=bry.grd"
   ]
  },
  {
   "cell_type": "markdown",
   "metadata": {},
   "source": [
    "### 2-2. C-grid 격자 만들기\n",
    "Gridgen()으로 만든 격자를 이용하여<br/>\n",
    "위경도 격자체계의 Curvilinear Arakawa C-grid 를 만듭니다."
   ]
  },
  {
   "cell_type": "code",
   "execution_count": 4,
   "metadata": {},
   "outputs": [],
   "source": [
    "lonv, latv = list(M(hgrd.x_vert, hgrd.y_vert, inverse=True))\n",
    "hgrd = pyroms.grid.CGrid_geo(lonv, latv, M)\n",
    "\n",
    "x,y = M(hgrd.lon_rho.flatten(),hgrd.lat_rho.flatten())\n",
    "_=M.plot(x,y,'bo',markersize=0.1)"
   ]
  },
  {
   "cell_type": "markdown",
   "metadata": {},
   "source": [
    "### 2-3. coastline 정보를 이용하여 육지 영역 masking 하기"
   ]
  },
  {
   "cell_type": "code",
   "execution_count": 5,
   "metadata": {},
   "outputs": [],
   "source": [
    "# generate the mask\n",
    "#for verts in map.coastsegs:\n",
    "#    hgrd.mask_polygon(verts)\n",
    "# alternate version from johan.navarro.padron\n",
    "\n",
    "for xx,yy in M.coastpolygons:\n",
    "    xa = np.array(xx, np.float32)\n",
    "    ya = np.array(yy,np.float32)\n",
    "    vv = np.zeros((xa.shape[0],2))\n",
    "    vv[:, 0] = xa\n",
    "    vv[:, 1] = ya\n",
    "    hgrd.mask_polygon(vv,mask_value=0)"
   ]
  },
  {
   "cell_type": "markdown",
   "metadata": {},
   "source": [
    "### 2-4. masking된 육지 영역을 확인하고 수정하기\n",
    "\n",
    "영역을 확대 및 이동하여 masking 영역을 확인하고, 키보드의 \"e\"키와 마우스를 눌러서 육지와 바다 영역을 수정합니다.<br/>\n",
    "이 기능이 정상적으로 작동하지 않는 경우는 프로그램 최상단에서 선언한<br/>\n",
    "\"%matplotlib widget\" 또는 \"%matplotlib notebook\"이 정상적으로 작동하지 않는 경우 입니다."
   ]
  },
  {
   "cell_type": "code",
   "execution_count": 6,
   "metadata": {},
   "outputs": [
    {
     "data": {
      "text/plain": [
       "<pyroms.hgrid.edit_mask_mesh_ij at 0x7f2a70058780>"
      ]
     },
     "execution_count": 6,
     "metadata": {},
     "output_type": "execute_result"
    }
   ],
   "source": [
    "# Edit the land mask interactively.\n",
    "#pyroms.grid.edit_mask_mesh(hgrd, proj=M)\n",
    "#edit_mask_mesh_ij is a faster version using imshow... but no map projection.\n",
    "coast = pyroms.utility.get_coast_from_map(M)\n",
    "pyroms.grid.edit_mask_mesh_ij(hgrd, coast=coast)"
   ]
  },
  {
   "cell_type": "markdown",
   "metadata": {},
   "source": [
    "## 3. 격자에 맞는 수심자료의 내삽\n",
    "만들어진 격자에 Etopo2 지형 자료를 사용하여 내삽을 합니다.<br/>\n",
    "Etopo2 자료는 다양한 방법으로 얻을 수있으며,<br/> \n",
    "여기에서는 matplotlib의 basemap에서 제공하는 자료를 사용합니다.<br/>\n",
    "다음의 주소에서 필요한 자료를 받아서 \"~/Data/Topog/ETOPO/\" 에 저장하세요.<br/>\n",
    "\"https://github.com/matplotlib/basemap/tree/master/examples \" "
   ]
  },
  {
   "cell_type": "markdown",
   "metadata": {},
   "source": [
    "### 3-1. Etopo2 지형 자료 읽기\n",
    "- Etopo2 자료에서 위경도를 읽고<br/>\n",
    "- 지형자료를 읽어서 육지와 바다의 부호를 반대로 바꾸고,<br/>\n",
    "- 최소 수심을 5m 로 제한하여 육지부분과 5m 이하의 수심을 모두 5m로 제한합니다. "
   ]
  },
  {
   "cell_type": "code",
   "execution_count": 7,
   "metadata": {},
   "outputs": [],
   "source": [
    "datadir = os.getenv('HOME')+'/Data/Topog/ETOPO/'\n",
    "\n",
    "lats = np.loadtxt(os.path.join(datadir, 'etopo20lats.gz'))\n",
    "lons = np.loadtxt(os.path.join(datadir, 'etopo20lons.gz'))\n",
    "\n",
    "topo = np.loadtxt(os.path.join(datadir, 'etopo20data.gz'))\n",
    "topo = -topo # depth positive\n",
    "hmin = 5     # fix minimum depth\n",
    "topo = pyroms_toolbox.change(topo, '<', hmin, hmin)"
   ]
  },
  {
   "cell_type": "markdown",
   "metadata": {},
   "source": [
    "### 3-2. 수심 자료를 격자점에 내삽\n",
    "- 수심 자료를 격자점에 맞게 내삽하고,\n",
    "- 내삽한 수심이 최소 수심 5m를 넘지 않게 다시 한번 검사하여 수정하며,\n",
    "- 육지로 masking되어 있는 곳도 모두 5m 로 수정합니다."
   ]
  },
  {
   "cell_type": "code",
   "execution_count": 8,
   "metadata": {},
   "outputs": [],
   "source": [
    "# interpolate new bathymetry\n",
    "lon, lat = np.meshgrid(lons, lats)\n",
    "#h = griddata(lon.flat,lat.flat,topo.flat,hgrd.lon_rho,hgrd.lat_rho)                     # from matplotlib\n",
    "points = np.array([lon.flatten(),lat.flatten()]).T\n",
    "h = griddata(np.array(points),topo.flatten(),(hgrd.lon_rho,hgrd.lat_rho),method='linear') # from scipy\n",
    "\n",
    "# insure that depth is always deeper than hmin\n",
    "h = pyroms_toolbox.change(h, '<', hmin, hmin)\n",
    "\n",
    "# set depth to hmin where masked\n",
    "idx = np.where(hgrd.mask_rho == 0)\n",
    "h[idx] = hmin\n",
    "\n",
    "# save raw bathymetry\n",
    "hraw = h.copy()"
   ]
  },
  {
   "cell_type": "markdown",
   "metadata": {},
   "source": [
    "### 3-3. 수심 평활화\n",
    "ROMS와 같이 연직 좌표계를 sigma coordinate로 사용하는 모델들은 격자 간의 수심 경사가 너무 커지지 않게 해야 합니다.<br/>\n",
    "이를 위해서 보통 bathymetry roughness <= 0.35 정도로 제한하여 수심을 평활화 합니다."
   ]
  },
  {
   "cell_type": "code",
   "execution_count": 9,
   "metadata": {},
   "outputs": [
    {
     "name": "stdout",
     "output_type": "stream",
     "text": [
      "Max Roughness value is:  0.9566878030233281\n",
      "     nbModif= 1163\n",
      "Max Roughness value is:  0.3500000000000001\n"
     ]
    }
   ],
   "source": [
    "# check bathymetry roughness\n",
    "RoughMat = bathy_tools.RoughnessMatrix(h, hgrd.mask_rho)\n",
    "print('Max Roughness value is: ', RoughMat.max())\n",
    "\n",
    "# smooth the raw bathy using the direct iterative method from Martinho and Batteen (2006)\n",
    "rx0_max = 0.35\n",
    "h = bathy_smoothing.smoothing_Positive_rx0(hgrd.mask_rho, h, rx0_max)\n",
    "\n",
    "# check bathymetry roughness again\n",
    "RoughMat = bathy_tools.RoughnessMatrix(h, hgrd.mask_rho)\n",
    "print('Max Roughness value is: ', RoughMat.max())"
   ]
  },
  {
   "cell_type": "markdown",
   "metadata": {},
   "source": [
    "## 4. 연직좌표계 결정"
   ]
  },
  {
   "cell_type": "code",
   "execution_count": 10,
   "metadata": {},
   "outputs": [],
   "source": [
    "# vertical coordinate\n",
    "theta_b = 0.1\n",
    "theta_s = 7.0\n",
    "Tcline = 50\n",
    "N = 30\n",
    "vgrd = pyroms.vgrid.s_coordinate_4(h, theta_b, theta_s, Tcline, N, hraw=hraw)"
   ]
  },
  {
   "cell_type": "code",
   "execution_count": 11,
   "metadata": {},
   "outputs": [
    {
     "name": "stdout",
     "output_type": "stream",
     "text": [
      "env: PYROMS_GRIDID_FILE=./gridid.txt\n",
      " ... wrote  theta_s\n",
      " ... wrote  theta_b\n",
      " ... wrote  Tcline\n",
      " ... wrote  hc\n",
      " ... wrote  s_rho\n",
      " ... wrote  s_w\n",
      " ... wrote  Cs_r\n",
      " ... wrote  Cs_w\n",
      " ... wrote  h\n",
      " ... wrote  hraw\n",
      " ... wrote  f\n",
      " ... wrote  pm\n",
      " ... wrote  pn\n",
      " ... wrote  dmde\n",
      " ... wrote  dndx\n",
      " ... wrote  xl\n",
      " ... wrote  el\n",
      " ... wrote  x_rho\n",
      " ... wrote  y_rho\n",
      " ... wrote  x_u\n",
      " ... wrote  y_u\n",
      " ... wrote  x_v\n",
      " ... wrote  y_v\n",
      " ... wrote  x_psi\n",
      " ... wrote  y_psi\n",
      " ... wrote  x_vert\n",
      " ... wrote  y_vert\n",
      " ... wrote  lon_rho\n",
      " ... wrote  lat_rho\n",
      " ... wrote  lon_u\n",
      " ... wrote  lat_u\n",
      " ... wrote  lon_v\n",
      " ... wrote  lat_v\n",
      " ... wrote  lon_psi\n",
      " ... wrote  lat_psi\n",
      " ... wrote  lon_vert\n",
      " ... wrote  lat_vert\n",
      " ... wrote  spherical\n",
      " ... wrote  angle\n",
      " ... wrote  mask_rho\n",
      " ... wrote  mask_u\n",
      " ... wrote  mask_v\n",
      " ... wrote  mask_psi\n"
     ]
    }
   ],
   "source": [
    "%env PYROMS_GRIDID_FILE=./gridid.txt\n",
    "\n",
    "grd_name = 'Soulik'; version = 'v2'\n",
    "grd = pyroms.grid.ROMS_Grid(grd_name, hgrd, vgrd)\n",
    "\n",
    "# write grid to netcdf file\n",
    "pyroms.grid.write_ROMS_grid(grd, filename='Soulik_grd_'+version+'.nc')"
   ]
  },
  {
   "cell_type": "code",
   "execution_count": 12,
   "metadata": {},
   "outputs": [
    {
     "name": "stdout",
     "output_type": "stream",
     "text": [
      "env: PYROMS_GRIDID_FILE=./gridid.txt\n",
      "Assuming spherical is integer b'T' <class 'numpy.ma.core.MaskedArray'>\n",
      "Load geographical grid from file\n",
      "<pyroms.grid.ROMS_Grid object at 0x7f2a6ce8dcf8>\n"
     ]
    }
   ],
   "source": [
    "#!ncdump -h Soulik.nc\n",
    "%env PYROMS_GRIDID_FILE=./gridid.txt\n",
    "grd = pyroms.grid.get_ROMS_grid('SOULIK')\n",
    "print(grd)\n",
    "\n",
    "lon  = grd.hgrid.lon_rho\n",
    "lat  = grd.hgrid.lat_rho\n",
    "h    = grd.vgrid.h\n",
    "mask = grd.hgrid.mask_rho\n",
    "idx  = np.where(mask == 0)\n",
    "h[idx] = 0"
   ]
  },
  {
   "cell_type": "code",
   "execution_count": 13,
   "metadata": {},
   "outputs": [
    {
     "ename": "RuntimeError",
     "evalue": "Can not put single artist in more than one figure",
     "output_type": "error",
     "traceback": [
      "\u001b[0;31m---------------------------------------------------------------------------\u001b[0m",
      "\u001b[0;31mRuntimeError\u001b[0m                              Traceback (most recent call last)",
      "\u001b[0;32m<ipython-input-13-1c6009aa2c3a>\u001b[0m in \u001b[0;36m<module>\u001b[0;34m\u001b[0m\n\u001b[1;32m      1\u001b[0m \u001b[0mget_ipython\u001b[0m\u001b[0;34m(\u001b[0m\u001b[0;34m)\u001b[0m\u001b[0;34m.\u001b[0m\u001b[0mrun_line_magic\u001b[0m\u001b[0;34m(\u001b[0m\u001b[0;34m'matplotlib'\u001b[0m\u001b[0;34m,\u001b[0m \u001b[0;34m'inline'\u001b[0m\u001b[0;34m)\u001b[0m\u001b[0;34m\u001b[0m\u001b[0;34m\u001b[0m\u001b[0m\n\u001b[1;32m      2\u001b[0m \u001b[0mfig\u001b[0m \u001b[0;34m=\u001b[0m \u001b[0mplt\u001b[0m\u001b[0;34m.\u001b[0m\u001b[0mfigure\u001b[0m\u001b[0;34m(\u001b[0m\u001b[0;34m)\u001b[0m\u001b[0;34m\u001b[0m\u001b[0;34m\u001b[0m\u001b[0m\n\u001b[0;32m----> 3\u001b[0;31m \u001b[0m_\u001b[0m\u001b[0;34m=\u001b[0m\u001b[0mM\u001b[0m\u001b[0;34m.\u001b[0m\u001b[0mdrawcoastlines\u001b[0m\u001b[0;34m(\u001b[0m\u001b[0;34m)\u001b[0m\u001b[0;34m\u001b[0m\u001b[0;34m\u001b[0m\u001b[0m\n\u001b[0m\u001b[1;32m      4\u001b[0m \u001b[0m_\u001b[0m\u001b[0;34m=\u001b[0m\u001b[0mM\u001b[0m\u001b[0;34m.\u001b[0m\u001b[0mdrawcountries\u001b[0m\u001b[0;34m(\u001b[0m\u001b[0;34m)\u001b[0m\u001b[0;34m\u001b[0m\u001b[0;34m\u001b[0m\u001b[0m\n\u001b[1;32m      5\u001b[0m \u001b[0;34m\u001b[0m\u001b[0m\n",
      "\u001b[0;32m~/Local/anaconda3/envs/ROMS/lib/python3.7/site-packages/mpl_toolkits/basemap/__init__.py\u001b[0m in \u001b[0;36mdrawcoastlines\u001b[0;34m(self, linewidth, linestyle, color, antialiased, ax, zorder)\u001b[0m\n\u001b[1;32m   1863\u001b[0m         \u001b[0mself\u001b[0m\u001b[0;34m.\u001b[0m\u001b[0mset_axes_limits\u001b[0m\u001b[0;34m(\u001b[0m\u001b[0max\u001b[0m\u001b[0;34m=\u001b[0m\u001b[0max\u001b[0m\u001b[0;34m)\u001b[0m\u001b[0;34m\u001b[0m\u001b[0;34m\u001b[0m\u001b[0m\n\u001b[1;32m   1864\u001b[0m         \u001b[0;31m# clip to map limbs\u001b[0m\u001b[0;34m\u001b[0m\u001b[0;34m\u001b[0m\u001b[0;34m\u001b[0m\u001b[0m\n\u001b[0;32m-> 1865\u001b[0;31m         \u001b[0mcoastlines\u001b[0m\u001b[0;34m,\u001b[0m\u001b[0mc\u001b[0m \u001b[0;34m=\u001b[0m \u001b[0mself\u001b[0m\u001b[0;34m.\u001b[0m\u001b[0m_cliplimb\u001b[0m\u001b[0;34m(\u001b[0m\u001b[0max\u001b[0m\u001b[0;34m,\u001b[0m\u001b[0mcoastlines\u001b[0m\u001b[0;34m)\u001b[0m\u001b[0;34m\u001b[0m\u001b[0;34m\u001b[0m\u001b[0m\n\u001b[0m\u001b[1;32m   1866\u001b[0m         \u001b[0;32mreturn\u001b[0m \u001b[0mcoastlines\u001b[0m\u001b[0;34m\u001b[0m\u001b[0;34m\u001b[0m\u001b[0m\n\u001b[1;32m   1867\u001b[0m \u001b[0;34m\u001b[0m\u001b[0m\n",
      "\u001b[0;32m~/Local/anaconda3/envs/ROMS/lib/python3.7/site-packages/mpl_toolkits/basemap/__init__.py\u001b[0m in \u001b[0;36m_cliplimb\u001b[0;34m(self, ax, coll)\u001b[0m\n\u001b[1;32m   1818\u001b[0m         \u001b[0mc\u001b[0m \u001b[0;34m=\u001b[0m \u001b[0mself\u001b[0m\u001b[0;34m.\u001b[0m\u001b[0m_mapboundarydrawn\u001b[0m\u001b[0;34m\u001b[0m\u001b[0;34m\u001b[0m\u001b[0m\n\u001b[1;32m   1819\u001b[0m         \u001b[0;32mif\u001b[0m \u001b[0mc\u001b[0m \u001b[0;32mnot\u001b[0m \u001b[0;32min\u001b[0m \u001b[0max\u001b[0m\u001b[0;34m.\u001b[0m\u001b[0mpatches\u001b[0m\u001b[0;34m:\u001b[0m\u001b[0;34m\u001b[0m\u001b[0;34m\u001b[0m\u001b[0m\n\u001b[0;32m-> 1820\u001b[0;31m             \u001b[0mp\u001b[0m \u001b[0;34m=\u001b[0m \u001b[0max\u001b[0m\u001b[0;34m.\u001b[0m\u001b[0madd_patch\u001b[0m\u001b[0;34m(\u001b[0m\u001b[0mc\u001b[0m\u001b[0;34m)\u001b[0m\u001b[0;34m\u001b[0m\u001b[0;34m\u001b[0m\u001b[0m\n\u001b[0m\u001b[1;32m   1821\u001b[0m             \u001b[0;31m#p.set_clip_on(False)\u001b[0m\u001b[0;34m\u001b[0m\u001b[0;34m\u001b[0m\u001b[0;34m\u001b[0m\u001b[0m\n\u001b[1;32m   1822\u001b[0m         \u001b[0;32mtry\u001b[0m\u001b[0;34m:\u001b[0m\u001b[0;34m\u001b[0m\u001b[0;34m\u001b[0m\u001b[0m\n",
      "\u001b[0;32m~/Local/anaconda3/envs/ROMS/lib/python3.7/site-packages/matplotlib/axes/_base.py\u001b[0m in \u001b[0;36madd_patch\u001b[0;34m(self, p)\u001b[0m\n\u001b[1;32m   1965\u001b[0m         \"\"\"\n\u001b[1;32m   1966\u001b[0m \u001b[0;34m\u001b[0m\u001b[0m\n\u001b[0;32m-> 1967\u001b[0;31m         \u001b[0mself\u001b[0m\u001b[0;34m.\u001b[0m\u001b[0m_set_artist_props\u001b[0m\u001b[0;34m(\u001b[0m\u001b[0mp\u001b[0m\u001b[0;34m)\u001b[0m\u001b[0;34m\u001b[0m\u001b[0;34m\u001b[0m\u001b[0m\n\u001b[0m\u001b[1;32m   1968\u001b[0m         \u001b[0;32mif\u001b[0m \u001b[0mp\u001b[0m\u001b[0;34m.\u001b[0m\u001b[0mget_clip_path\u001b[0m\u001b[0;34m(\u001b[0m\u001b[0;34m)\u001b[0m \u001b[0;32mis\u001b[0m \u001b[0;32mNone\u001b[0m\u001b[0;34m:\u001b[0m\u001b[0;34m\u001b[0m\u001b[0;34m\u001b[0m\u001b[0m\n\u001b[1;32m   1969\u001b[0m             \u001b[0mp\u001b[0m\u001b[0;34m.\u001b[0m\u001b[0mset_clip_path\u001b[0m\u001b[0;34m(\u001b[0m\u001b[0mself\u001b[0m\u001b[0;34m.\u001b[0m\u001b[0mpatch\u001b[0m\u001b[0;34m)\u001b[0m\u001b[0;34m\u001b[0m\u001b[0;34m\u001b[0m\u001b[0m\n",
      "\u001b[0;32m~/Local/anaconda3/envs/ROMS/lib/python3.7/site-packages/matplotlib/axes/_base.py\u001b[0m in \u001b[0;36m_set_artist_props\u001b[0;34m(self, a)\u001b[0m\n\u001b[1;32m    920\u001b[0m     \u001b[0;32mdef\u001b[0m \u001b[0m_set_artist_props\u001b[0m\u001b[0;34m(\u001b[0m\u001b[0mself\u001b[0m\u001b[0;34m,\u001b[0m \u001b[0ma\u001b[0m\u001b[0;34m)\u001b[0m\u001b[0;34m:\u001b[0m\u001b[0;34m\u001b[0m\u001b[0;34m\u001b[0m\u001b[0m\n\u001b[1;32m    921\u001b[0m         \u001b[0;34m\"\"\"set the boilerplate props for artists added to axes\"\"\"\u001b[0m\u001b[0;34m\u001b[0m\u001b[0;34m\u001b[0m\u001b[0m\n\u001b[0;32m--> 922\u001b[0;31m         \u001b[0ma\u001b[0m\u001b[0;34m.\u001b[0m\u001b[0mset_figure\u001b[0m\u001b[0;34m(\u001b[0m\u001b[0mself\u001b[0m\u001b[0;34m.\u001b[0m\u001b[0mfigure\u001b[0m\u001b[0;34m)\u001b[0m\u001b[0;34m\u001b[0m\u001b[0;34m\u001b[0m\u001b[0m\n\u001b[0m\u001b[1;32m    923\u001b[0m         \u001b[0;32mif\u001b[0m \u001b[0;32mnot\u001b[0m \u001b[0ma\u001b[0m\u001b[0;34m.\u001b[0m\u001b[0mis_transform_set\u001b[0m\u001b[0;34m(\u001b[0m\u001b[0;34m)\u001b[0m\u001b[0;34m:\u001b[0m\u001b[0;34m\u001b[0m\u001b[0;34m\u001b[0m\u001b[0m\n\u001b[1;32m    924\u001b[0m             \u001b[0ma\u001b[0m\u001b[0;34m.\u001b[0m\u001b[0mset_transform\u001b[0m\u001b[0;34m(\u001b[0m\u001b[0mself\u001b[0m\u001b[0;34m.\u001b[0m\u001b[0mtransData\u001b[0m\u001b[0;34m)\u001b[0m\u001b[0;34m\u001b[0m\u001b[0;34m\u001b[0m\u001b[0m\n",
      "\u001b[0;32m~/Local/anaconda3/envs/ROMS/lib/python3.7/site-packages/matplotlib/artist.py\u001b[0m in \u001b[0;36mset_figure\u001b[0;34m(self, fig)\u001b[0m\n\u001b[1;32m    642\u001b[0m         \u001b[0;31m# to more than one Axes\u001b[0m\u001b[0;34m\u001b[0m\u001b[0;34m\u001b[0m\u001b[0;34m\u001b[0m\u001b[0m\n\u001b[1;32m    643\u001b[0m         \u001b[0;32mif\u001b[0m \u001b[0mself\u001b[0m\u001b[0;34m.\u001b[0m\u001b[0mfigure\u001b[0m \u001b[0;32mis\u001b[0m \u001b[0;32mnot\u001b[0m \u001b[0;32mNone\u001b[0m\u001b[0;34m:\u001b[0m\u001b[0;34m\u001b[0m\u001b[0;34m\u001b[0m\u001b[0m\n\u001b[0;32m--> 644\u001b[0;31m             raise RuntimeError(\"Can not put single artist in \"\n\u001b[0m\u001b[1;32m    645\u001b[0m                                \"more than one figure\")\n\u001b[1;32m    646\u001b[0m         \u001b[0mself\u001b[0m\u001b[0;34m.\u001b[0m\u001b[0mfigure\u001b[0m \u001b[0;34m=\u001b[0m \u001b[0mfig\u001b[0m\u001b[0;34m\u001b[0m\u001b[0;34m\u001b[0m\u001b[0m\n",
      "\u001b[0;31mRuntimeError\u001b[0m: Can not put single artist in more than one figure"
     ]
    },
    {
     "data": {
      "image/png": "[encoded data removed]",
      "text/plain": [
       "<Figure size 432x288 with 1 Axes>"
      ]
     },
     "metadata": {},
     "output_type": "display_data"
    }
   ],
   "source": [
    "%matplotlib inline\n",
    "fig = plt.figure()\n",
    "_=M.drawcoastlines()\n",
    "_=M.drawcountries()\n",
    "\n",
    "x,y = M(lon, lat)\n",
    "clevs = np.arange(0,5000,100)\n",
    "# cs = M.contourf(x,y,h,clevs,cmap=plt.cm.rainbow,extend='max')\n",
    "cs = M.contourf(x,y,h,clevs,extend='max')"
   ]
  },
  {
   "cell_type": "code",
   "execution_count": null,
   "metadata": {},
   "outputs": [],
   "source": []
  }
 ],
 "metadata": {
  "kernelspec": {
   "display_name": "ROMS",
   "language": "python",
   "name": "roms"
  },
  "language_info": {
   "codemirror_mode": {
    "name": "ipython",
    "version": 3
   },
   "file_extension": ".py",
   "mimetype": "text/x-python",
   "name": "python",
   "nbconvert_exporter": "python",
   "pygments_lexer": "ipython3",
   "version": "3.7.3"
  }
 },
 "nbformat": 4,
 "nbformat_minor": 2
}
