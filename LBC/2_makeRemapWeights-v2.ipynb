{
 "cells": [
  {
   "cell_type": "markdown",
   "metadata": {},
   "source": [
    "# HYCOM과 ROMS 격자간의 remap_weights 만들기 "
   ]
  },
  {
   "cell_type": "code",
   "execution_count": 1,
   "metadata": {},
   "outputs": [],
   "source": [
    "%matplotlib inline\n",
    "import matplotlib.pyplot as plt\n",
    "\n",
    "import os, sys, subprocess\n",
    "from datetime import datetime\n",
    "\n",
    "import numpy as np\n",
    "from netCDF4 import Dataset, num2date, date2num\n",
    "\n",
    "import pyroms\n",
    "import pyroms_toolbox\n",
    "\n",
    "# load local tools\n",
    "sys.path.append(os.path.abspath('../Tools/'))\n",
    "from getGridHYCOM import getGridHYCOM"
   ]
  },
  {
   "cell_type": "markdown",
   "metadata": {},
   "source": [
    "## 0. HYCOM & ROMS 격자 정보 가져오기"
   ]
  },
  {
   "cell_type": "code",
   "execution_count": 3,
   "metadata": {},
   "outputs": [
    {
     "name": "stdout",
     "output_type": "stream",
     "text": [
      "env: PYROMS_GRIDID_FILE=../Grid/gridid.txt\n",
      "Assuming spherical is integer b'T' <class 'numpy.ma.core.MaskedArray'>\n",
      "Load geographical grid from file\n"
     ]
    }
   ],
   "source": [
    "# 실험명\n",
    "expname = 'Soulik'; version = 'v4'\n",
    "\n",
    "# 격자 정보를 얻기 위한 샘플(시작) 날짜 설정\n",
    "date_beg = datetime(2018,8,21,0) # year, month, day, hour\n",
    "ymdh_beg = date_beg.strftime('%Y-%m-%dT%H:%M:%SZ')\n",
    "\n",
    "src_name = 'HYCOM'\n",
    "dst_name = expname # Note) must be same name in gridid.txt\n",
    "\n",
    "src_grd = getGridHYCOM(\"./HYCOM/HYCOM4%s_ts3z_%s.nc4\"%(expname,ymdh_beg),'water_temp',name=src_name)\n",
    "\n",
    "%env PYROMS_GRIDID_FILE=../Grid/gridid.txt\n",
    "dst_grd = pyroms.grid.get_ROMS_grid(dst_name.upper()+version)"
   ]
  },
  {
   "cell_type": "markdown",
   "metadata": {},
   "source": [
    "## 1. Scrip을 사용하여 remap grid 파일 만들기"
   ]
  },
  {
   "cell_type": "code",
   "execution_count": 4,
   "metadata": {},
   "outputs": [
    {
     "name": "stdout",
     "output_type": "stream",
     "text": [
      "==>Info: creating remap_grid_HYCOM_t.nc\n",
      "==>Info: creating remap_grid_Soulik_rho.nc\n",
      "grid shape 340 340\n",
      "==>Info: creating remap_grid_Soulik_u.nc\n",
      "grid shape 340 339\n",
      "==>Info: creating remap_grid_Soulik_v.nc\n",
      "grid shape 339 340\n"
     ]
    }
   ],
   "source": [
    "print(\"==>Info: creating remap_grid_HYCOM_t.nc\")\n",
    "pyroms_toolbox.Grid_HYCOM.make_remap_grid_file(src_grd)\n",
    "\n",
    "print(\"==>Info: creating remap_grid_Soulik_rho.nc\")\n",
    "pyroms.remapping.make_remap_grid_file(dst_grd, Cpos='rho')\n",
    "\n",
    "print(\"==>Info: creating remap_grid_Soulik_u.nc\")\n",
    "pyroms.remapping.make_remap_grid_file(dst_grd, Cpos='u')\n",
    "\n",
    "print(\"==>Info: creating remap_grid_Soulik_v.nc\")\n",
    "pyroms.remapping.make_remap_grid_file(dst_grd, Cpos='v')"
   ]
  },
  {
   "cell_type": "markdown",
   "metadata": {},
   "source": [
    "## 2. 내삽 가중치 구하기\n",
    "\n",
    "### 2-1. T@HYCOM --> rho@ROMS"
   ]
  },
  {
   "cell_type": "code",
   "execution_count": 5,
   "metadata": {},
   "outputs": [
    {
     "name": "stdout",
     "output_type": "stream",
     "text": [
      "==>Info: creating remap_weights_HYCOM_to_Soulik_bilinear_t_to_rho.nc & remap_weights_Soulik_to_HYCOM_bilinear_rho_to_t.nc\n"
     ]
    }
   ],
   "source": [
    "# compute remap weights\n",
    "# input namelist variables for bilinear remapping at rho points\n",
    "grid1_file = 'remap_grid_%s_t.nc'%src_name\n",
    "grid2_file = 'remap_grid_%s_rho.nc'%dst_name\n",
    "interp_file1 = 'remap_weights_' + src_name + '_to_' + dst_name + '_bilinear_t_to_rho.nc'\n",
    "interp_file2 = 'remap_weights_' + dst_name + '_to_' + src_name + '_bilinear_rho_to_t.nc'\n",
    "map1_name = src_name + ' to ' + dst_name + ' Bilinear Mapping' # or 'Distance weighted avg of nearest neighbors'\n",
    "map2_name = dst_name + ' to ' + src_name + ' Bilinear Mapping' # or 'Distance weighted avg of nearest neighbors'\n",
    "num_maps = 1 # = 2 if grid1 -> grid2 and grid2 -> grid1\n",
    "map_method = 'bilinear' # or 'distwgt'\n",
    "\n",
    "pyroms.remapping.compute_remap_weights(grid1_file, grid2_file, \\\n",
    "                                       interp_file1, interp_file2, map1_name, \\\n",
    "                                       map2_name, num_maps, map_method)\n",
    "print(\"==>Info: creating %s & %s\"%(interp_file1,interp_file2))"
   ]
  },
  {
   "cell_type": "markdown",
   "metadata": {},
   "source": [
    "### 2-2. T@HYCOM --> U@ROMS"
   ]
  },
  {
   "cell_type": "code",
   "execution_count": 6,
   "metadata": {},
   "outputs": [
    {
     "name": "stdout",
     "output_type": "stream",
     "text": [
      "==>Info: creating remap_weights_HYCOM_to_Soulik_bilinear_t_to_u.nc & remap_weights_Soulik_to_HYCOM_bilinear_u_to_t.nc\n"
     ]
    }
   ],
   "source": [
    "# compute remap weights\n",
    "# input namelist variables for bilinear remapping at rho points\n",
    "grid1_file = 'remap_grid_' + src_name + '_t.nc'\n",
    "grid2_file = 'remap_grid_' + dst_name + '_u.nc'\n",
    "interp_file1 = 'remap_weights_' + src_name + '_to_' + dst_name + '_bilinear_t_to_u.nc'\n",
    "interp_file2 = 'remap_weights_' + dst_name + '_to_' + src_name + '_bilinear_u_to_t.nc'\n",
    "map1_name = src_name + ' to ' + dst_name + ' Bilinear Mapping' # or 'Distance weighted avg of nearest neighbors'\n",
    "map2_name = dst_name + ' to ' + src_name + ' Bilinear Mapping' # or 'Distance weighted avg of nearest neighbors'\n",
    "num_maps = 1 # = 2 if grid1 -> grid2 and grid2 -> grid1\n",
    "map_method = 'bilinear' # or 'distwgt'\n",
    "\n",
    "pyroms.remapping.compute_remap_weights(grid1_file, grid2_file, \\\n",
    "                                       interp_file1, interp_file2, map1_name, \\\n",
    "                                       map2_name, num_maps, map_method)\n",
    "print(\"==>Info: creating %s & %s\"%(interp_file1,interp_file2))"
   ]
  },
  {
   "cell_type": "markdown",
   "metadata": {},
   "source": [
    "### 2-3. T@HYCOM --> V@ROMS"
   ]
  },
  {
   "cell_type": "code",
   "execution_count": 7,
   "metadata": {},
   "outputs": [
    {
     "name": "stdout",
     "output_type": "stream",
     "text": [
      "==>Info: creating remap_weights_HYCOM_to_Soulik_bilinear_t_to_v.nc & remap_weights_Soulik_to_HYCOM_bilinear_v_to_t.nc\n"
     ]
    }
   ],
   "source": [
    "# compute remap weights\n",
    "# input namelist variables for bilinear remapping at rho points\n",
    "grid1_file = 'remap_grid_' + src_name + '_t.nc'\n",
    "grid2_file = 'remap_grid_' + dst_name + '_v.nc'\n",
    "interp_file1 = 'remap_weights_' + src_name + '_to_' + dst_name + '_bilinear_t_to_v.nc'\n",
    "interp_file2 = 'remap_weights_' + dst_name + '_to_' + src_name + '_bilinear_v_to_t.nc'\n",
    "map1_name = src_name + ' to ' + dst_name + ' Bilinear Mapping' # or 'Distance weighted avg of nearest neighbors'\n",
    "map2_name = dst_name + ' to ' + src_name + ' Bilinear Mapping' # or 'Distance weighted avg of nearest neighbors'\n",
    "num_maps = 1 # = 2 if grid1 -> grid2 and grid2 -> grid1\n",
    "map_method = 'bilinear' # or 'distwgt'\n",
    "\n",
    "pyroms.remapping.compute_remap_weights(grid1_file, grid2_file, \\\n",
    "                                       interp_file1, interp_file2, map1_name, \\\n",
    "                                       map2_name, num_maps, map_method)\n",
    "print(\"==>Info: creating %s & %s\"%(interp_file1,interp_file2))"
   ]
  },
  {
   "cell_type": "code",
   "execution_count": null,
   "metadata": {},
   "outputs": [],
   "source": []
  }
 ],
 "metadata": {
  "kernelspec": {
   "display_name": "ROMS",
   "language": "python",
   "name": "roms"
  },
  "language_info": {
   "codemirror_mode": {
    "name": "ipython",
    "version": 3
   },
   "file_extension": ".py",
   "mimetype": "text/x-python",
   "name": "python",
   "nbconvert_exporter": "python",
   "pygments_lexer": "ipython3",
   "version": "3.7.3"
  }
 },
 "nbformat": 4,
 "nbformat_minor": 2
}
